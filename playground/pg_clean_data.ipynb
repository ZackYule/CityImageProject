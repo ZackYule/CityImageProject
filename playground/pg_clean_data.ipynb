{
 "cells": [
  {
   "cell_type": "markdown",
   "metadata": {},
   "source": [
    "# 数据处理模板"
   ]
  },
  {
   "cell_type": "markdown",
   "metadata": {},
   "source": [
    "## 预设"
   ]
  },
  {
   "cell_type": "markdown",
   "metadata": {},
   "source": [
    "### 导入库"
   ]
  },
  {
   "cell_type": "code",
   "execution_count": 1,
   "metadata": {},
   "outputs": [],
   "source": [
    "import sys\n",
    "sys.path.append(\"..\")\n",
    "import pandas as pd\n",
    "from utils import *"
   ]
  },
  {
   "cell_type": "markdown",
   "metadata": {},
   "source": [
    "### 全局参数"
   ]
  },
  {
   "cell_type": "code",
   "execution_count": 2,
   "metadata": {},
   "outputs": [],
   "source": [
    "file_path = '../data/西安回答详情.csv'"
   ]
  },
  {
   "cell_type": "markdown",
   "metadata": {},
   "source": [
    "### 全局设置"
   ]
  },
  {
   "cell_type": "markdown",
   "metadata": {},
   "source": [
    "## 函数工具"
   ]
  },
  {
   "cell_type": "markdown",
   "metadata": {},
   "source": [
    "## 数据读取"
   ]
  },
  {
   "cell_type": "code",
   "execution_count": 3,
   "metadata": {},
   "outputs": [],
   "source": [
    "zhihu = pd.read_csv(file_path)\n",
    "zhihu.rename(columns={'answer_content':'内容', 'publish_time':'发布时间', 'voters_num':'点赞数', 'comments_num':'评论数', 'author_url':'user_tag'}, inplace = True)\n",
    "zhihu = zhihu[['内容', '发布时间', '点赞数', '评论数', 'user_tag']]"
   ]
  },
  {
   "cell_type": "markdown",
   "metadata": {},
   "source": [
    "## 数据处理"
   ]
  },
  {
   "cell_type": "code",
   "execution_count": 4,
   "metadata": {},
   "outputs": [],
   "source": [
    "zhihu_demo = zhihu.sample(10).reset_index()"
   ]
  },
  {
   "cell_type": "code",
   "execution_count": 5,
   "metadata": {},
   "outputs": [
    {
     "name": "stderr",
     "output_type": "stream",
     "text": [
      "2022-11-24 11:29:29.879 | DEBUG    | utils:get_number_from_string:49 - 🤡ERROR!!--->err=IndexError('string index out of range'), type(err)=<class 'IndexError'>\n",
      "2022-11-24 11:29:29.881 | DEBUG    | utils:get_number_from_string:49 - 🤡ERROR!!--->err=IndexError('string index out of range'), type(err)=<class 'IndexError'>\n",
      "2022-11-24 11:29:29.882 | DEBUG    | utils:get_number_from_string:49 - 🤡ERROR!!--->err=IndexError('string index out of range'), type(err)=<class 'IndexError'>\n",
      "2022-11-24 11:29:29.883 | DEBUG    | utils:get_number_from_string:49 - 🤡ERROR!!--->err=IndexError('string index out of range'), type(err)=<class 'IndexError'>\n",
      "2022-11-24 11:29:29.888 | DEBUG    | utils:get_number_from_string:49 - 🤡ERROR!!--->err=IndexError('string index out of range'), type(err)=<class 'IndexError'>\n",
      "2022-11-24 11:29:29.889 | DEBUG    | utils:get_number_from_string:49 - 🤡ERROR!!--->err=IndexError('string index out of range'), type(err)=<class 'IndexError'>\n",
      "2022-11-24 11:29:29.890 | DEBUG    | utils:get_number_from_string:49 - 🤡ERROR!!--->err=IndexError('string index out of range'), type(err)=<class 'IndexError'>\n"
     ]
    },
    {
     "data": {
      "text/html": [
       "<div>\n",
       "<style scoped>\n",
       "    .dataframe tbody tr th:only-of-type {\n",
       "        vertical-align: middle;\n",
       "    }\n",
       "\n",
       "    .dataframe tbody tr th {\n",
       "        vertical-align: top;\n",
       "    }\n",
       "\n",
       "    .dataframe thead th {\n",
       "        text-align: right;\n",
       "    }\n",
       "</style>\n",
       "<table border=\"1\" class=\"dataframe\">\n",
       "  <thead>\n",
       "    <tr style=\"text-align: right;\">\n",
       "      <th></th>\n",
       "      <th>点赞数</th>\n",
       "      <th>评论数</th>\n",
       "    </tr>\n",
       "  </thead>\n",
       "  <tbody>\n",
       "    <tr>\n",
       "      <th>0</th>\n",
       "      <td>36</td>\n",
       "      <td>11</td>\n",
       "    </tr>\n",
       "    <tr>\n",
       "      <th>1</th>\n",
       "      <td>2</td>\n",
       "      <td>0</td>\n",
       "    </tr>\n",
       "    <tr>\n",
       "      <th>2</th>\n",
       "      <td>0</td>\n",
       "      <td>0</td>\n",
       "    </tr>\n",
       "    <tr>\n",
       "      <th>3</th>\n",
       "      <td>2</td>\n",
       "      <td>1</td>\n",
       "    </tr>\n",
       "    <tr>\n",
       "      <th>4</th>\n",
       "      <td>1020</td>\n",
       "      <td>49</td>\n",
       "    </tr>\n",
       "    <tr>\n",
       "      <th>5</th>\n",
       "      <td>0</td>\n",
       "      <td>8</td>\n",
       "    </tr>\n",
       "    <tr>\n",
       "      <th>6</th>\n",
       "      <td>0</td>\n",
       "      <td>2</td>\n",
       "    </tr>\n",
       "    <tr>\n",
       "      <th>7</th>\n",
       "      <td>1</td>\n",
       "      <td>2</td>\n",
       "    </tr>\n",
       "    <tr>\n",
       "      <th>8</th>\n",
       "      <td>0</td>\n",
       "      <td>0</td>\n",
       "    </tr>\n",
       "    <tr>\n",
       "      <th>9</th>\n",
       "      <td>1</td>\n",
       "      <td>2</td>\n",
       "    </tr>\n",
       "  </tbody>\n",
       "</table>\n",
       "</div>"
      ],
      "text/plain": [
       "    点赞数  评论数\n",
       "0    36   11\n",
       "1     2    0\n",
       "2     0    0\n",
       "3     2    1\n",
       "4  1020   49\n",
       "5     0    8\n",
       "6     0    2\n",
       "7     1    2\n",
       "8     0    0\n",
       "9     1    2"
      ]
     },
     "execution_count": 5,
     "metadata": {},
     "output_type": "execute_result"
    }
   ],
   "source": [
    "zhihu_demo['发布时间'] = zhihu_demo['发布时间'].apply(search_time_string)\n",
    "clean_one_column_of_number(zhihu_demo,['点赞数', '评论数'])"
   ]
  },
  {
   "cell_type": "markdown",
   "metadata": {},
   "source": [
    "## 数据展示"
   ]
  },
  {
   "cell_type": "code",
   "execution_count": 8,
   "metadata": {},
   "outputs": [
    {
     "data": {
      "text/html": [
       "<div>\n",
       "<style scoped>\n",
       "    .dataframe tbody tr th:only-of-type {\n",
       "        vertical-align: middle;\n",
       "    }\n",
       "\n",
       "    .dataframe tbody tr th {\n",
       "        vertical-align: top;\n",
       "    }\n",
       "\n",
       "    .dataframe thead th {\n",
       "        text-align: right;\n",
       "    }\n",
       "</style>\n",
       "<table border=\"1\" class=\"dataframe\">\n",
       "  <thead>\n",
       "    <tr style=\"text-align: right;\">\n",
       "      <th></th>\n",
       "      <th>index</th>\n",
       "      <th>内容</th>\n",
       "      <th>发布时间</th>\n",
       "      <th>点赞数</th>\n",
       "      <th>评论数</th>\n",
       "      <th>user_tag</th>\n",
       "    </tr>\n",
       "  </thead>\n",
       "  <tbody>\n",
       "    <tr>\n",
       "      <th>0</th>\n",
       "      <td>13809</td>\n",
       "      <td>大概看了下大家的日常，打工人的作息都差不多hhhhh\\n\\n起床永远是体力活！\\n\\n\\n工...</td>\n",
       "      <td>发布于 2022-07-04 23:26</td>\n",
       "      <td>​赞同 2</td>\n",
       "      <td>​3 条评论</td>\n",
       "      <td>https://www.zhihu.com/people/shi-shui-wu-hen-h...</td>\n",
       "    </tr>\n",
       "    <tr>\n",
       "      <th>1</th>\n",
       "      <td>8739</td>\n",
       "      <td>在我们国家，国家政策和政治定位是个很重要的东西。\\n\\n郑州近年来发展势头很猛，每去一次都可...</td>\n",
       "      <td>发布于 2018-10-02 20:30</td>\n",
       "      <td>​赞同 5</td>\n",
       "      <td>​2 条评论</td>\n",
       "      <td>https://www.zhihu.com/people/</td>\n",
       "    </tr>\n",
       "    <tr>\n",
       "      <th>2</th>\n",
       "      <td>17278</td>\n",
       "      <td>这个问题不是一概而论的，疫情的防控问题，这不光是一个城市的管理，而是一个基层组织或基层减负问...</td>\n",
       "      <td>发布于 2022-01-07 04:16</td>\n",
       "      <td>​赞同</td>\n",
       "      <td>​添加评论</td>\n",
       "      <td>https://www.zhihu.com/people/xue-er-25-68-82</td>\n",
       "    </tr>\n",
       "    <tr>\n",
       "      <th>3</th>\n",
       "      <td>18960</td>\n",
       "      <td>很严重，但经历了这段时间的努力已经慢慢趋于掌控节奏中。\\n\\n在关于西安疫情的话题下面，身为...</td>\n",
       "      <td>发布于 2022-01-12 00:26</td>\n",
       "      <td>​赞同 5</td>\n",
       "      <td>​34 条评论</td>\n",
       "      <td>https://www.zhihu.com/people/fan-jian-wu-ni</td>\n",
       "    </tr>\n",
       "    <tr>\n",
       "      <th>4</th>\n",
       "      <td>16932</td>\n",
       "      <td>疫情是不是会过去？不管时间长短。我想，答案是肯定的吧。等疫情过去后，大家还不是老样子嘛。下次...</td>\n",
       "      <td>发布于 2022-01-05 15:22</td>\n",
       "      <td>​赞同 1</td>\n",
       "      <td>​添加评论</td>\n",
       "      <td>https://www.zhihu.com/people/wang-xiao-bin-86-73</td>\n",
       "    </tr>\n",
       "    <tr>\n",
       "      <th>5</th>\n",
       "      <td>1777</td>\n",
       "      <td>西安是西安人民的西安，是陕西人民的西安，是西北人民的西安，必要的时候，还是河南人民的西安。\\...</td>\n",
       "      <td>发布于 2022-04-22 01:45</td>\n",
       "      <td>​赞同 3</td>\n",
       "      <td>​添加评论</td>\n",
       "      <td>https://www.zhihu.com/people/ling-nan-pi-pi-xia</td>\n",
       "    </tr>\n",
       "    <tr>\n",
       "      <th>6</th>\n",
       "      <td>2900</td>\n",
       "      <td>有人刻意为之，城市和老百姓是无辜的\\n</td>\n",
       "      <td>发布于 2022-05-22 08:39</td>\n",
       "      <td>​赞同</td>\n",
       "      <td>​添加评论</td>\n",
       "      <td>https://www.zhihu.com/people/xiao-yu-zhou-ren</td>\n",
       "    </tr>\n",
       "    <tr>\n",
       "      <th>7</th>\n",
       "      <td>19872</td>\n",
       "      <td>1\\n\\n有钱人喜欢\\n\\n\\n有人问了一个这样的问题:一个城市的最贵的板块，或者有机会成为...</td>\n",
       "      <td>发布于 2022-07-12 21:44</td>\n",
       "      <td>​赞同 7</td>\n",
       "      <td>​4 条评论</td>\n",
       "      <td>https://www.zhihu.com/people/san-dian-44</td>\n",
       "    </tr>\n",
       "    <tr>\n",
       "      <th>8</th>\n",
       "      <td>19515</td>\n",
       "      <td>在临潼\\n\\n吃不到\\n</td>\n",
       "      <td>发布于 2021-12-30 08:27</td>\n",
       "      <td>​赞同 1</td>\n",
       "      <td>​添加评论</td>\n",
       "      <td>https://www.zhihu.com/people/</td>\n",
       "    </tr>\n",
       "    <tr>\n",
       "      <th>9</th>\n",
       "      <td>524</td>\n",
       "      <td>不值得，但是你的人生态度是\\n\\n差不多就行了，又不是不能用\\n\\n那西安特别适合你，这座城...</td>\n",
       "      <td>发布于 2022-01-12 11:45</td>\n",
       "      <td>​赞同</td>\n",
       "      <td>​添加评论</td>\n",
       "      <td>https://www.zhihu.com/people/kang-kai-93-99</td>\n",
       "    </tr>\n",
       "  </tbody>\n",
       "</table>\n",
       "</div>"
      ],
      "text/plain": [
       "   index                                                 内容  \\\n",
       "0  13809  大概看了下大家的日常，打工人的作息都差不多hhhhh\\n\\n起床永远是体力活！\\n\\n\\n工...   \n",
       "1   8739  在我们国家，国家政策和政治定位是个很重要的东西。\\n\\n郑州近年来发展势头很猛，每去一次都可...   \n",
       "2  17278  这个问题不是一概而论的，疫情的防控问题，这不光是一个城市的管理，而是一个基层组织或基层减负问...   \n",
       "3  18960  很严重，但经历了这段时间的努力已经慢慢趋于掌控节奏中。\\n\\n在关于西安疫情的话题下面，身为...   \n",
       "4  16932  疫情是不是会过去？不管时间长短。我想，答案是肯定的吧。等疫情过去后，大家还不是老样子嘛。下次...   \n",
       "5   1777  西安是西安人民的西安，是陕西人民的西安，是西北人民的西安，必要的时候，还是河南人民的西安。\\...   \n",
       "6   2900                                有人刻意为之，城市和老百姓是无辜的\\n   \n",
       "7  19872  1\\n\\n有钱人喜欢\\n\\n\\n有人问了一个这样的问题:一个城市的最贵的板块，或者有机会成为...   \n",
       "8  19515                                       在临潼\\n\\n吃不到\\n   \n",
       "9    524  不值得，但是你的人生态度是\\n\\n差不多就行了，又不是不能用\\n\\n那西安特别适合你，这座城...   \n",
       "\n",
       "                   发布时间    点赞数      评论数  \\\n",
       "0  发布于 2022-07-04 23:26  ​赞同 2   ​3 条评论   \n",
       "1  发布于 2018-10-02 20:30  ​赞同 5   ​2 条评论   \n",
       "2  发布于 2022-01-07 04:16    ​赞同    ​添加评论   \n",
       "3  发布于 2022-01-12 00:26  ​赞同 5  ​34 条评论   \n",
       "4  发布于 2022-01-05 15:22  ​赞同 1    ​添加评论   \n",
       "5  发布于 2022-04-22 01:45  ​赞同 3    ​添加评论   \n",
       "6  发布于 2022-05-22 08:39    ​赞同    ​添加评论   \n",
       "7  发布于 2022-07-12 21:44  ​赞同 7   ​4 条评论   \n",
       "8  发布于 2021-12-30 08:27  ​赞同 1    ​添加评论   \n",
       "9  发布于 2022-01-12 11:45    ​赞同    ​添加评论   \n",
       "\n",
       "                                            user_tag  \n",
       "0  https://www.zhihu.com/people/shi-shui-wu-hen-h...  \n",
       "1                      https://www.zhihu.com/people/  \n",
       "2       https://www.zhihu.com/people/xue-er-25-68-82  \n",
       "3        https://www.zhihu.com/people/fan-jian-wu-ni  \n",
       "4   https://www.zhihu.com/people/wang-xiao-bin-86-73  \n",
       "5    https://www.zhihu.com/people/ling-nan-pi-pi-xia  \n",
       "6      https://www.zhihu.com/people/xiao-yu-zhou-ren  \n",
       "7           https://www.zhihu.com/people/san-dian-44  \n",
       "8                      https://www.zhihu.com/people/  \n",
       "9        https://www.zhihu.com/people/kang-kai-93-99  "
      ]
     },
     "execution_count": 8,
     "metadata": {},
     "output_type": "execute_result"
    }
   ],
   "source": [
    "zhihu_demo"
   ]
  },
  {
   "cell_type": "markdown",
   "metadata": {},
   "source": [
    "## 数据保存"
   ]
  },
  {
   "cell_type": "markdown",
   "metadata": {},
   "source": [
    "## 测试&playground"
   ]
  }
 ],
 "metadata": {
  "kernelspec": {
   "display_name": "Python 3.11.0 64-bit ('NLP_basic')",
   "language": "python",
   "name": "python3"
  },
  "language_info": {
   "codemirror_mode": {
    "name": "ipython",
    "version": 3
   },
   "file_extension": ".py",
   "mimetype": "text/x-python",
   "name": "python",
   "nbconvert_exporter": "python",
   "pygments_lexer": "ipython3",
   "version": "3.11.0"
  },
  "orig_nbformat": 4,
  "vscode": {
   "interpreter": {
    "hash": "079e56311600030aea161f73c27f984888490b25ad0ceac64419b7055e9af638"
   }
  }
 },
 "nbformat": 4,
 "nbformat_minor": 2
}
