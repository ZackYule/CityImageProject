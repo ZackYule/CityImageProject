{
 "cells": [
  {
   "cell_type": "markdown",
   "metadata": {},
   "source": [
    "# 数据处理模板"
   ]
  },
  {
   "cell_type": "markdown",
   "metadata": {},
   "source": [
    "## 预设"
   ]
  },
  {
   "cell_type": "markdown",
   "metadata": {},
   "source": [
    "### 导入库"
   ]
  },
  {
   "cell_type": "code",
   "execution_count": 8,
   "metadata": {},
   "outputs": [],
   "source": [
    "import sys\n",
    "sys.path.append(\"..\")\n",
    "import pandas as pd\n",
    "from utils import *"
   ]
  },
  {
   "cell_type": "markdown",
   "metadata": {},
   "source": [
    "### 全局参数"
   ]
  },
  {
   "cell_type": "code",
   "execution_count": 9,
   "metadata": {},
   "outputs": [],
   "source": [
    "MinLengthOfWord = 2\n",
    "StopWordPath = '../setting/stopwords.txt'\n",
    "ExtraDictionaryPath = '../setting/dict.txt'\n",
    "DataFilePath = '../data/西安城市形象数据_分词.pkl'"
   ]
  },
  {
   "cell_type": "markdown",
   "metadata": {},
   "source": [
    "### 全局设置"
   ]
  },
  {
   "cell_type": "code",
   "execution_count": null,
   "metadata": {},
   "outputs": [],
   "source": []
  },
  {
   "cell_type": "markdown",
   "metadata": {},
   "source": [
    "## 函数工具"
   ]
  },
  {
   "cell_type": "code",
   "execution_count": 3,
   "metadata": {},
   "outputs": [],
   "source": [
    "# 生成新路径，用来保存修改后文件\n",
    "def get_new_path(old_path, new_tag):\n",
    "    path_list = old_path.rsplit('.', 1)\n",
    "    path_list[0] += '_'+new_tag\n",
    "    return '.'.join(path_list)"
   ]
  },
  {
   "cell_type": "markdown",
   "metadata": {},
   "source": [
    "## 数据读取"
   ]
  },
  {
   "cell_type": "code",
   "execution_count": 10,
   "metadata": {},
   "outputs": [],
   "source": [
    "data = pd.read_pickle(DataFilePath)\n",
    "# data = data.sample(10).reset_index()"
   ]
  },
  {
   "cell_type": "markdown",
   "metadata": {},
   "source": [
    "## 数据处理"
   ]
  },
  {
   "cell_type": "code",
   "execution_count": 5,
   "metadata": {},
   "outputs": [
    {
     "name": "stderr",
     "output_type": "stream",
     "text": [
      "2022-11-24 12:42:20.602 | DEBUG    | utils:get_segmentation_words_from_data_frame:129 - min_length_of_word的格式是<class 'int'>\n",
      "2022-11-24 12:42:20.604 | DEBUG    | utils:get_segmentation_words_from_data_frame:130 - stop_word_path:../setting/stopwords.txt\n",
      "2022-11-24 12:42:20.607 | DEBUG    | utils:get_segmentation_words_from_data_frame:131 - extra_dictionary_path:../setting/dict.txt\n",
      "Building prefix dict from the default dictionary ...\n",
      "Loading model from cache /var/folders/3b/vr_bzyy109l8shrht3p8h5700000gn/T/jieba.cache\n",
      "Loading model cost 1.286 seconds.\n",
      "Prefix dict has been built successfully.\n"
     ]
    }
   ],
   "source": [
    "get_segmentation_words_from_data_frame(data, '内容', '分词', inplace = True, stop_word_path = StopWordPath, extra_dictionary_path = ExtraDictionaryPath)"
   ]
  },
  {
   "cell_type": "markdown",
   "metadata": {},
   "source": [
    "## 数据展示"
   ]
  },
  {
   "cell_type": "code",
   "execution_count": 11,
   "metadata": {},
   "outputs": [
    {
     "data": {
      "text/html": [
       "<div>\n",
       "<style scoped>\n",
       "    .dataframe tbody tr th:only-of-type {\n",
       "        vertical-align: middle;\n",
       "    }\n",
       "\n",
       "    .dataframe tbody tr th {\n",
       "        vertical-align: top;\n",
       "    }\n",
       "\n",
       "    .dataframe thead th {\n",
       "        text-align: right;\n",
       "    }\n",
       "</style>\n",
       "<table border=\"1\" class=\"dataframe\">\n",
       "  <thead>\n",
       "    <tr style=\"text-align: right;\">\n",
       "      <th></th>\n",
       "      <th>内容</th>\n",
       "      <th>发布时间</th>\n",
       "      <th>点赞数</th>\n",
       "      <th>收藏数</th>\n",
       "      <th>转发数</th>\n",
       "      <th>user_tag</th>\n",
       "      <th>平台</th>\n",
       "      <th>评论数</th>\n",
       "      <th>分词</th>\n",
       "    </tr>\n",
       "  </thead>\n",
       "  <tbody>\n",
       "    <tr>\n",
       "      <th>0</th>\n",
       "      <td>西安旅游攻略吧，小伙伴年底要来西安玩一周！😂😂😂太高兴了。但是你要问一个西安人，西安有啥玩的...</td>\n",
       "      <td>2021-11-21 08:14:20</td>\n",
       "      <td>64</td>\n",
       "      <td>1440</td>\n",
       "      <td>180</td>\n",
       "      <td>https://www.douban.com/people/Ch95134/</td>\n",
       "      <td>豆瓣</td>\n",
       "      <td>0</td>\n",
       "      <td>旅游 小伙伴 景点 日程 城区 城墙 城墙 旅游 书院 回民 皮院 桥梓 金桥 环城 公园 ...</td>\n",
       "    </tr>\n",
       "    <tr>\n",
       "      <th>1</th>\n",
       "      <td>西安回民街到底该不该去，是不是专门坑游客的地方五一到了，很多人来西安玩会有个疑惑回民街到底该...</td>\n",
       "      <td>2021-04-24 15:58:39</td>\n",
       "      <td>186</td>\n",
       "      <td>4420</td>\n",
       "      <td>380</td>\n",
       "      <td>https://www.douban.com/people/nnnpppccc/</td>\n",
       "      <td>豆瓣</td>\n",
       "      <td>0</td>\n",
       "      <td>回民 游客 玩会 回民 泡馍 块钱 回民 游客 院门 鼓楼 院门 回民 规划 书院 一条街 ...</td>\n",
       "    </tr>\n",
       "    <tr>\n",
       "      <th>2</th>\n",
       "      <td>西安怕是不能再来了~我现在对我的西安朋友充满了怨愤。因为他们要是早一点告诉我西安这么好吃，我...</td>\n",
       "      <td>2019-09-16 18:42:50</td>\n",
       "      <td>758</td>\n",
       "      <td>27820</td>\n",
       "      <td>6130</td>\n",
       "      <td>https://www.douban.com/people/ChannaDisco/</td>\n",
       "      <td>豆瓣</td>\n",
       "      <td>0</td>\n",
       "      <td>朋友 怨愤 字头 妈呀 餐厅 利文 吃货 欧洲人 烤鸡 整法 素食主义者 反观 吃货 盐焗鸡...</td>\n",
       "    </tr>\n",
       "    <tr>\n",
       "      <th>3</th>\n",
       "      <td>西安是个很好玩的城市，景点和骗子都很好玩。首先想说的是，作为十三朝古都，西安是一个非常好的城...</td>\n",
       "      <td>2017-01-05 13:16:47</td>\n",
       "      <td>10789</td>\n",
       "      <td>110260</td>\n",
       "      <td>28160</td>\n",
       "      <td>https://www.douban.com/people/xiangyi816/</td>\n",
       "      <td>豆瓣</td>\n",
       "      <td>0</td>\n",
       "      <td>景点 骗子 篇幅 篇文章 一叶障目 篇文章 印象 旅途 独家 贞观 公众 景点 旅行 骗子 ...</td>\n",
       "    </tr>\n",
       "    <tr>\n",
       "      <th>4</th>\n",
       "      <td>博物馆游记｜西安（三）第四站·秦始皇帝陵博物院（秦始皇兵马俑博物馆）秦始皇兵马俑，号称“世界...</td>\n",
       "      <td>2021-06-26 20:25:30</td>\n",
       "      <td>10</td>\n",
       "      <td>60</td>\n",
       "      <td>10</td>\n",
       "      <td>https://www.douban.com/people/qubing/</td>\n",
       "      <td>豆瓣</td>\n",
       "      <td>0</td>\n",
       "      <td>博物馆 游记 帝陵 博物院 兵马俑博物馆 兵马俑 世界 奇迹 名头 景点 景点 景点 差点 ...</td>\n",
       "    </tr>\n",
       "    <tr>\n",
       "      <th>...</th>\n",
       "      <td>...</td>\n",
       "      <td>...</td>\n",
       "      <td>...</td>\n",
       "      <td>...</td>\n",
       "      <td>...</td>\n",
       "      <td>...</td>\n",
       "      <td>...</td>\n",
       "      <td>...</td>\n",
       "      <td>...</td>\n",
       "    </tr>\n",
       "    <tr>\n",
       "      <th>244506</th>\n",
       "      <td>高新、软件新城、沣东的交界</td>\n",
       "      <td>2021-05-06 10:48:00</td>\n",
       "      <td>0</td>\n",
       "      <td>0</td>\n",
       "      <td>0</td>\n",
       "      <td>https://www.zhihu.com/people/li-xiang-yu-54-3</td>\n",
       "      <td>知乎</td>\n",
       "      <td>0</td>\n",
       "      <td>软件 交界</td>\n",
       "    </tr>\n",
       "    <tr>\n",
       "      <th>244507</th>\n",
       "      <td>西安的环路真的是，南三环平均只敢开60，一路红绿灯加大井盖泥土的，一堵就是四五百米，东西三环...</td>\n",
       "      <td>2021-04-15 10:23:00</td>\n",
       "      <td>3</td>\n",
       "      <td>0</td>\n",
       "      <td>0</td>\n",
       "      <td>https://www.zhihu.com/people/jiu-mei-zai-na-li</td>\n",
       "      <td>知乎</td>\n",
       "      <td>0</td>\n",
       "      <td>环路 泥土 三环 刚铺 大坑 主道 辅导 绿灯 大车 泥土 垃圾 三环路 桥梁 轮胎</td>\n",
       "    </tr>\n",
       "    <tr>\n",
       "      <th>244508</th>\n",
       "      <td>软件新城上班，每天经过西三环，鱼化寨。附近交通比较乱，三环边上的绿植总是一层灰，没有啥自行车...</td>\n",
       "      <td>2021-03-06 07:25:00</td>\n",
       "      <td>3</td>\n",
       "      <td>0</td>\n",
       "      <td>0</td>\n",
       "      <td>https://www.zhihu.com/people/science-2</td>\n",
       "      <td>知乎</td>\n",
       "      <td>0</td>\n",
       "      <td>软件 交通 三环 绿植 自行车道 地铁 号线 鱼化寨 产业</td>\n",
       "    </tr>\n",
       "    <tr>\n",
       "      <th>244509</th>\n",
       "      <td>比东三环差多了，都什么年代了还在居民集中区建330kv超高压线，拿着十年年的环评报告施工，十...</td>\n",
       "      <td>2021-11-24 17:55:00</td>\n",
       "      <td>2</td>\n",
       "      <td>0</td>\n",
       "      <td>0</td>\n",
       "      <td>https://www.zhihu.com/people/simplehappy-57</td>\n",
       "      <td>知乎</td>\n",
       "      <td>1</td>\n",
       "      <td>居民 集中区 报告 施工 小区 高压线 规划 居民楼 落地 落地 浪费 资源 落地 政策 高...</td>\n",
       "    </tr>\n",
       "    <tr>\n",
       "      <th>244510</th>\n",
       "      <td>反正比较堵，不知道为啥</td>\n",
       "      <td>2021-04-13 10:07:00</td>\n",
       "      <td>0</td>\n",
       "      <td>0</td>\n",
       "      <td>0</td>\n",
       "      <td>https://www.zhihu.com/people/cppxiao-bai</td>\n",
       "      <td>知乎</td>\n",
       "      <td>0</td>\n",
       "      <td></td>\n",
       "    </tr>\n",
       "  </tbody>\n",
       "</table>\n",
       "<p>244511 rows × 9 columns</p>\n",
       "</div>"
      ],
      "text/plain": [
       "                                                       内容  \\\n",
       "0       西安旅游攻略吧，小伙伴年底要来西安玩一周！😂😂😂太高兴了。但是你要问一个西安人，西安有啥玩的...   \n",
       "1       西安回民街到底该不该去，是不是专门坑游客的地方五一到了，很多人来西安玩会有个疑惑回民街到底该...   \n",
       "2       西安怕是不能再来了~我现在对我的西安朋友充满了怨愤。因为他们要是早一点告诉我西安这么好吃，我...   \n",
       "3       西安是个很好玩的城市，景点和骗子都很好玩。首先想说的是，作为十三朝古都，西安是一个非常好的城...   \n",
       "4       博物馆游记｜西安（三）第四站·秦始皇帝陵博物院（秦始皇兵马俑博物馆）秦始皇兵马俑，号称“世界...   \n",
       "...                                                   ...   \n",
       "244506                                      高新、软件新城、沣东的交界   \n",
       "244507  西安的环路真的是，南三环平均只敢开60，一路红绿灯加大井盖泥土的，一堵就是四五百米，东西三环...   \n",
       "244508  软件新城上班，每天经过西三环，鱼化寨。附近交通比较乱，三环边上的绿植总是一层灰，没有啥自行车...   \n",
       "244509  比东三环差多了，都什么年代了还在居民集中区建330kv超高压线，拿着十年年的环评报告施工，十...   \n",
       "244510                                        反正比较堵，不知道为啥   \n",
       "\n",
       "                       发布时间    点赞数     收藏数    转发数  \\\n",
       "0       2021-11-21 08:14:20     64    1440    180   \n",
       "1       2021-04-24 15:58:39    186    4420    380   \n",
       "2       2019-09-16 18:42:50    758   27820   6130   \n",
       "3       2017-01-05 13:16:47  10789  110260  28160   \n",
       "4       2021-06-26 20:25:30     10      60     10   \n",
       "...                     ...    ...     ...    ...   \n",
       "244506  2021-05-06 10:48:00      0       0      0   \n",
       "244507  2021-04-15 10:23:00      3       0      0   \n",
       "244508  2021-03-06 07:25:00      3       0      0   \n",
       "244509  2021-11-24 17:55:00      2       0      0   \n",
       "244510  2021-04-13 10:07:00      0       0      0   \n",
       "\n",
       "                                              user_tag  平台  评论数  \\\n",
       "0               https://www.douban.com/people/Ch95134/  豆瓣    0   \n",
       "1             https://www.douban.com/people/nnnpppccc/  豆瓣    0   \n",
       "2           https://www.douban.com/people/ChannaDisco/  豆瓣    0   \n",
       "3            https://www.douban.com/people/xiangyi816/  豆瓣    0   \n",
       "4                https://www.douban.com/people/qubing/  豆瓣    0   \n",
       "...                                                ...  ..  ...   \n",
       "244506   https://www.zhihu.com/people/li-xiang-yu-54-3  知乎    0   \n",
       "244507  https://www.zhihu.com/people/jiu-mei-zai-na-li  知乎    0   \n",
       "244508          https://www.zhihu.com/people/science-2  知乎    0   \n",
       "244509     https://www.zhihu.com/people/simplehappy-57  知乎    1   \n",
       "244510        https://www.zhihu.com/people/cppxiao-bai  知乎    0   \n",
       "\n",
       "                                                       分词  \n",
       "0       旅游 小伙伴 景点 日程 城区 城墙 城墙 旅游 书院 回民 皮院 桥梓 金桥 环城 公园 ...  \n",
       "1       回民 游客 玩会 回民 泡馍 块钱 回民 游客 院门 鼓楼 院门 回民 规划 书院 一条街 ...  \n",
       "2       朋友 怨愤 字头 妈呀 餐厅 利文 吃货 欧洲人 烤鸡 整法 素食主义者 反观 吃货 盐焗鸡...  \n",
       "3       景点 骗子 篇幅 篇文章 一叶障目 篇文章 印象 旅途 独家 贞观 公众 景点 旅行 骗子 ...  \n",
       "4       博物馆 游记 帝陵 博物院 兵马俑博物馆 兵马俑 世界 奇迹 名头 景点 景点 景点 差点 ...  \n",
       "...                                                   ...  \n",
       "244506                                              软件 交界  \n",
       "244507         环路 泥土 三环 刚铺 大坑 主道 辅导 绿灯 大车 泥土 垃圾 三环路 桥梁 轮胎  \n",
       "244508                      软件 交通 三环 绿植 自行车道 地铁 号线 鱼化寨 产业  \n",
       "244509  居民 集中区 报告 施工 小区 高压线 规划 居民楼 落地 落地 浪费 资源 落地 政策 高...  \n",
       "244510                                                     \n",
       "\n",
       "[244511 rows x 9 columns]"
      ]
     },
     "execution_count": 11,
     "metadata": {},
     "output_type": "execute_result"
    }
   ],
   "source": [
    "data_to_show = data\n",
    "data_to_show"
   ]
  },
  {
   "cell_type": "markdown",
   "metadata": {},
   "source": [
    "## 数据保存"
   ]
  },
  {
   "cell_type": "code",
   "execution_count": 7,
   "metadata": {},
   "outputs": [],
   "source": [
    "data_to_save = data\n",
    "OutFilePath = get_new_path(DataFilePath, 'out')\n",
    "data_to_save.to_pickle(OutFilePath)"
   ]
  },
  {
   "cell_type": "markdown",
   "metadata": {},
   "source": [
    "## 测试&playground"
   ]
  }
 ],
 "metadata": {
  "kernelspec": {
   "display_name": "Python 3.11.0 64-bit ('NLP_basic')",
   "language": "python",
   "name": "python3"
  },
  "language_info": {
   "codemirror_mode": {
    "name": "ipython",
    "version": 3
   },
   "file_extension": ".py",
   "mimetype": "text/x-python",
   "name": "python",
   "nbconvert_exporter": "python",
   "pygments_lexer": "ipython3",
   "version": "3.11.0"
  },
  "orig_nbformat": 4,
  "vscode": {
   "interpreter": {
    "hash": "079e56311600030aea161f73c27f984888490b25ad0ceac64419b7055e9af638"
   }
  }
 },
 "nbformat": 4,
 "nbformat_minor": 2
}
