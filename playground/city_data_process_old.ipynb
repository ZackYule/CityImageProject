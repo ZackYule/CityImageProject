{
 "cells": [
  {
   "cell_type": "markdown",
   "metadata": {},
   "source": [
    "# 西安城市形象建设数据处理"
   ]
  },
  {
   "cell_type": "markdown",
   "metadata": {},
   "source": [
    "## 预设"
   ]
  },
  {
   "cell_type": "markdown",
   "metadata": {},
   "source": [
    "#### 全局参数设置"
   ]
  },
  {
   "cell_type": "code",
   "execution_count": 139,
   "metadata": {},
   "outputs": [],
   "source": [
    "ExtraDictionaryPath = 'set/dict.txt'\n",
    "StopWordPath = 'set/stopwords.txt'\n",
    "KeywordFilePath = 'resource/编码框架及关键词列表.xlsx'\n",
    "KeywordSheetNameTopic = 'Sheet1'\n",
    "KeywordSheetNameNarration = 'Sheet2'\n",
    "KeywordTopNumber = 10"
   ]
  },
  {
   "cell_type": "markdown",
   "metadata": {},
   "source": [
    "#### 导入模块"
   ]
  },
  {
   "cell_type": "code",
   "execution_count": 205,
   "metadata": {},
   "outputs": [],
   "source": [
    "import sys\n",
    "import os\n",
    "import openpyxl\n",
    "import csv\n",
    "import re\n",
    "import pandas as pd\n",
    "import jieba\n",
    "import jieba.posseg as psg\n",
    "import matplotlib.pyplot as plt\n",
    "from loguru import logger\n",
    "logger.remove()\n",
    "handler_id = logger.add(sys.stderr, level=\"DEBUG\")\n",
    "# 支持中文\n",
    "plt.rcParams['font.sans-serif'] = ['SimSong-Regular'] # 用来正常显示中文标签\n",
    "plt.rcParams['axes.unicode_minus'] = False # 用来正常显示负号\n",
    "# 显示清晰\n",
    "%matplotlib inline\n",
    "%config InlineBackend.figure_format = 'retina'"
   ]
  },
  {
   "cell_type": "markdown",
   "metadata": {},
   "source": [
    "## 函数"
   ]
  },
  {
   "cell_type": "markdown",
   "metadata": {},
   "source": [
    "#### 关键词读取工具"
   ]
  },
  {
   "cell_type": "code",
   "execution_count": 214,
   "metadata": {},
   "outputs": [],
   "source": [
    "# 从excel中读取内容\n",
    "def get_content_from_xlsx(file_path:str, sheet_name:str,column_num:int):\n",
    "    # excel表格对象 与 sheet对象\n",
    "    xlsx_el = openpyxl.load_workbook(file_path)\n",
    "    sheet_el = xlsx_el[sheet_name]\n",
    "    # 读取\n",
    "    result = []\n",
    "    row_num = sheet_el.max_row\n",
    "    for i in range(row_num):\n",
    "        target_value = sheet_el.cell(row=i+1, column=column_num).value\n",
    "        if target_value:\n",
    "            result.append(str(target_value).replace(' ', ''))\n",
    "    \n",
    "    xlsx_el.close()\n",
    "    return result"
   ]
  },
  {
   "cell_type": "code",
   "execution_count": 142,
   "metadata": {},
   "outputs": [],
   "source": [
    "# 重合查找\n",
    "def coincident_search(file_path, sheet_name):\n",
    "    keywords_narration = get_content_from_xlsx(file_path, sheet_name, 1)\n",
    "    keywords_topic = get_content_from_xlsx(file_path, sheet_name, 10)\n",
    "    keywords_coincident = []\n",
    "    for k in keywords_narration:\n",
    "        print(k)\n",
    "        if k in keywords_topic:\n",
    "            print(keywords_topic.index(k))\n",
    "            keywords_coincident.append(k)\n",
    "    # print(keywords_narration)\n",
    "    print(len(keywords_coincident),len(keywords_narration))"
   ]
  },
  {
   "cell_type": "code",
   "execution_count": 215,
   "metadata": {},
   "outputs": [],
   "source": [
    "# 获取词典\n",
    "def get_keywords_dict(file_path:str, sheet_name:str, column_num:int, label_diff:int=1) -> dict:\n",
    "    unprocessed_keywords_list = get_content_from_xlsx(file_path, sheet_name, column_num)\n",
    "    labels_list = get_content_from_xlsx(file_path, sheet_name, column_num+label_diff)\n",
    "    keywords = {}\n",
    "    for i, unprocessed_keywords in enumerate(unprocessed_keywords_list):\n",
    "        if i > 0:\n",
    "            keywords[labels_list[i]] = unprocessed_keywords.split('、')\n",
    "    return keywords"
   ]
  },
  {
   "cell_type": "markdown",
   "metadata": {},
   "source": [
    "#### 内容分析工具"
   ]
  },
  {
   "cell_type": "code",
   "execution_count": 245,
   "metadata": {},
   "outputs": [],
   "source": [
    "# 数据清洗\n",
    "def clean_data(content):\n",
    "    content = re.sub('<[^<]+?>', '', str(content)\n",
    "                     ).replace('\\n', '').strip()  # 删除html文本\n",
    "    content = re.sub(r'https://[a-zA-Z0-9.?/&=:]*',\n",
    "                         '', str(content))  # 删除文本中的网址\n",
    "    content = re.sub(r'http://[a-zA-Z0-9.?/&=:]*', '', content)\n",
    "\n",
    "    return content\n",
    "\n",
    "#分词工具\n",
    "def chinese_word_cut(my_text, min_length_of_word = 3, flag_list = ['n','nz','vn']):\n",
    "    jieba.load_userdict(ExtraDictionaryPath)\n",
    "    jieba.initialize()\n",
    "    try:\n",
    "        stopword_list_unprocessed = open(StopWordPath,encoding ='utf-8')\n",
    "    except:\n",
    "        stopword_list_unprocessed = []\n",
    "        print(\"error in stop_file\")\n",
    "    stop_word_list = []\n",
    "    for line in stopword_list_unprocessed:\n",
    "        line = re.sub(u'\\n|\\\\r', '', line)\n",
    "        stop_word_list.append(line)\n",
    "\n",
    "    #jieba分词\n",
    "    word_list = []\n",
    "    seg_list = psg.cut(my_text)\n",
    "    for seg_word in seg_list:\n",
    "        # word = re.sub(u'[^\\u4e00-\\u9fa5]','',seg_word.word)\n",
    "        word = seg_word.word\n",
    "        is_unfit = False\n",
    "        for stop_word in stop_word_list:\n",
    "            if stop_word == word or len(word) <  min_length_of_word:     #this word is stopword\n",
    "                    is_unfit = True\n",
    "                    break\n",
    "        if (not is_unfit) and seg_word.flag in flag_list:\n",
    "            word_list.append(word)      \n",
    "    return (\" \").join(word_list)\n",
    "\n",
    "# 统计词数\n",
    "def get_words_count(words:str)->str:\n",
    "    words_list = words.strip().split(' ')\n",
    "    words_count = len(words_list)\n",
    "    if words_count < 2 and not words_list[0]:\n",
    "        return 0\n",
    "    return words_count\n",
    "\n",
    "# 统计词频\n",
    "def statistical_word_frequency(word_list, top_num = 10):\n",
    "    word_frequency_series = pd.Series(word_list.split(' '), name=\"count\")\n",
    "    word_frequency_rank = pd.DataFrame()\n",
    "    word_frequency_rank['count'] = word_frequency_series.value_counts()\n",
    "    total_num = word_frequency_rank['count'].size\n",
    "    if total_num < top_num:\n",
    "        top_num = total_num - 1\n",
    "    word_frequency_rank_top = word_frequency_rank[word_frequency_rank['count']>=word_frequency_rank['count'][top_num - 1]]\n",
    "    return ' '.join(word_frequency_rank_top['count'].index)\n",
    "\n",
    "# 列表重合检测\n",
    "def list_detection(list1, list2) -> bool:\n",
    "    return frozenset(list1).intersection(list2)\n",
    "    \n",
    "# 词典检测\n",
    "def dictionary_detection(words, dictionary_dict):\n",
    "    if isinstance(words, str):\n",
    "        words_list = words.split(' ')\n",
    "    else:\n",
    "        words_list = words\n",
    "\n",
    "    analogy = ''\n",
    "    all_coincident_keyword_set = set()\n",
    "\n",
    "    for serial_number, keywords_list in dictionary_dict.items():\n",
    "        coincident_keyword_set = list_detection(words_list, keywords_list)\n",
    "        if len(coincident_keyword_set) > 0:\n",
    "            analogy += str(serial_number) + ' '\n",
    "            all_coincident_keyword_set = set.union(all_coincident_keyword_set, coincident_keyword_set)\n",
    "    \n",
    "    return analogy.strip() + '-' + ' '.join(all_coincident_keyword_set)\n",
    "\n",
    "# 统计类型个数\n",
    "def sum_of_types(classification_array):\n",
    "    classification_unprocessed = ' '.join(classification_array).split(' ')\n",
    "    labels = map(lambda s:s.strip(), filter(lambda s:s, classification_unprocessed))\n",
    "    labels_count = pd.Series(labels).value_counts()\n",
    "    return labels_count.index, labels_count\n",
    "    "
   ]
  },
  {
   "cell_type": "markdown",
   "metadata": {},
   "source": [
    "#### 工具组合"
   ]
  },
  {
   "cell_type": "code",
   "execution_count": 146,
   "metadata": {},
   "outputs": [],
   "source": [
    "def get_top_keywords(content:str)->str:\n",
    "    data = clean_data(content)\n",
    "    word_cut = chinese_word_cut(data)\n",
    "    top_keywords = statistical_word_frequency(word_cut, top_num=KeywordTopNumber)\n",
    "    return top_keywords"
   ]
  },
  {
   "cell_type": "markdown",
   "metadata": {},
   "source": [
    "## 数据分析"
   ]
  },
  {
   "cell_type": "markdown",
   "metadata": {},
   "source": [
    "##### 词典获取"
   ]
  },
  {
   "cell_type": "code",
   "execution_count": 216,
   "metadata": {},
   "outputs": [],
   "source": [
    "topic_dict = get_keywords_dict(KeywordFilePath, KeywordSheetNameTopic, 4, -2)\n",
    "narration_dict = get_keywords_dict(KeywordFilePath, KeywordSheetNameNarration, 4, -2)"
   ]
  },
  {
   "cell_type": "markdown",
   "metadata": {},
   "source": [
    "##### 微博数据处理代码"
   ]
  },
  {
   "cell_type": "code",
   "execution_count": 168,
   "metadata": {},
   "outputs": [
    {
     "name": "stderr",
     "output_type": "stream",
     "text": [
      "/opt/anaconda3/envs/sklearn/lib/python3.6/site-packages/IPython/core/interactiveshell.py:3072: DtypeWarning: Columns (9,10) have mixed types.Specify dtype option on import or set low_memory=False.\n",
      "  interactivity=interactivity, compiler=compiler, result=result)\n",
      "/opt/anaconda3/envs/sklearn/lib/python3.6/site-packages/ipykernel_launcher.py:9: FutureWarning: Columnar iteration over characters will be deprecated in future releases.\n",
      "  if __name__ == '__main__':\n",
      "/opt/anaconda3/envs/sklearn/lib/python3.6/site-packages/ipykernel_launcher.py:11: FutureWarning: Columnar iteration over characters will be deprecated in future releases.\n",
      "  # This is added back by InteractiveShellApp.init_path()\n"
     ]
    }
   ],
   "source": [
    "\n",
    "weibo = pd.read_csv(\"resource/西安微博.csv\")\n",
    "# weibo = weibo[:10]\n",
    "# print(get_top_keywords(weibo['内容'][0]))\n",
    "weibo['分词'] = weibo['微博正文'].apply(get_top_keywords)\n",
    "weibo['代表词数'] = weibo['分词'].apply(get_words_count)\n",
    "weibo['议题分类-选中词'] = weibo['分词'].apply(dictionary_detection, args=[topic_dict])\n",
    "weibo['叙事分类-选中词'] = weibo['分词'].apply(dictionary_detection, args=[narration_dict])\n",
    "weibo['议题分类'], weibo['议题选中词'] = weibo['议题分类-选中词'].str.split('-', 1).str\n",
    "weibo['叙事分类'], weibo['叙事选中词'] = weibo['叙事分类-选中词'].str.split('-', 1).str\n",
    "# print(weibo['议题分类-选中词'].head(10))\n",
    "weibo.to_excel('resource/西安微博分类.xlsx', index=False)"
   ]
  },
  {
   "cell_type": "markdown",
   "metadata": {},
   "source": [
    "##### 知乎数据处理代码"
   ]
  },
  {
   "cell_type": "code",
   "execution_count": 167,
   "metadata": {},
   "outputs": [
    {
     "name": "stderr",
     "output_type": "stream",
     "text": [
      "/opt/anaconda3/envs/sklearn/lib/python3.6/site-packages/ipykernel_launcher.py:10: FutureWarning: Columnar iteration over characters will be deprecated in future releases.\n",
      "  # Remove the CWD from sys.path while we load stuff.\n",
      "/opt/anaconda3/envs/sklearn/lib/python3.6/site-packages/ipykernel_launcher.py:11: FutureWarning: Columnar iteration over characters will be deprecated in future releases.\n",
      "  # This is added back by InteractiveShellApp.init_path()\n"
     ]
    }
   ],
   "source": [
    "zhihu = pd.read_csv(\"resource/西安回答详情.csv\")\n",
    "# zhihu = zhihu[:10]\n",
    "# print(get_top_keywords(zhihu['内容'][0]))\n",
    "zhihu['分词'] = zhihu['answer_content'].apply(get_top_keywords)\n",
    "zhihu['代表词数'] = zhihu['分词'].apply(get_words_count)\n",
    "zhihu['议题分类-选中词'] = zhihu['分词'].apply(dictionary_detection, args=[topic_dict])\n",
    "zhihu['叙事分类-选中词'] = zhihu['分词'].apply(dictionary_detection, args=[narration_dict])\n",
    "zhihu['议题分类'], zhihu['议题选中词'] = zhihu['议题分类-选中词'].str.split('-', 1).str\n",
    "zhihu['叙事分类'], zhihu['叙事选中词'] = zhihu['叙事分类-选中词'].str.split('-', 1).str\n",
    "# print(zhihu['选中词'].head(3))\n",
    "zhihu.to_excel('resource/西安知乎分类.xlsx', index=False)"
   ]
  },
  {
   "cell_type": "markdown",
   "metadata": {},
   "source": [
    "##### 豆瓣数据处理代码"
   ]
  },
  {
   "cell_type": "code",
   "execution_count": 217,
   "metadata": {},
   "outputs": [
    {
     "name": "stdout",
     "output_type": "stream",
     "text": [
      "                        标题                                                 内容  \\\n",
      "0                 西安旅游攻略吧，  小伙伴年底要来西安玩一周！😂😂😂太高兴了。但是你要问一个西安人，西安有啥玩的，真还就半天想不...   \n",
      "1  西安回民街到底该不该去，是不是专门坑游客的地方  五一到了，很多人来西安玩会有个疑惑\\n回民街到底该不该去？？\\n网上也是众说纷纭。\\n有的人...   \n",
      "2               西安怕是不能再来了~  我现在对我的西安朋友充满了怨愤。\\n因为他们要是早一点告诉我西安这么好吃，我大可以在新陈代谢...   \n",
      "\n",
      "                                     发布地址     作者  \\\n",
      "0  https://www.douban.com/note/820125485/  随风如愿，   \n",
      "1  https://www.douban.com/note/801085769/    NPC   \n",
      "2  https://www.douban.com/note/734501659/  岛上的夏奈   \n",
      "\n",
      "                                         作者主页                  发布时间  喜欢数  \\\n",
      "0      https://www.douban.com/people/Ch95134/  2021-11-21 08:14:20    64   \n",
      "1    https://www.douban.com/people/nnnpppccc/  2021-04-24 15:58:39   186   \n",
      "2  https://www.douban.com/people/ChannaDisco/  2019-09-16 18:42:50   758   \n",
      "\n",
      "    收藏数  转发数                                                 分词  代表词数  \\\n",
      "0   144   18  博物馆 本地人 文公庙 电视塔 未央区 森林公园 示意图 历史博物馆 专业人士 客运站 猪大...    31   \n",
      "1   442   38  本地人 粉蒸肉 一条街 马二酸汤 聚居区 外地人 注意安全 注意事项 感兴趣 美食节 小土豆...    14   \n",
      "2  2782  613  豆腐脑 男朋友 盐焗鸡 炸豆腐 欧洲人 掌柜的 酸菜鱼 前男友 利口酒 金针菇 十块钱 篇文...    23   \n",
      "\n",
      "                                            议题分类-选中词  \\\n",
      "0  文化风俗 重大事件 基础设施 休闲娱乐 社会民生-全运会 示意图 不倒翁 兵马俑 客运站 动...   \n",
      "1                              休闲娱乐 社会民生-粉蒸肉 外地人 互联网   \n",
      "2                              社会民生 市民样貌-当地人 豆腐脑 男朋友   \n",
      "\n",
      "                                            叙事分类-选中词  \\\n",
      "0  事件框架 细节框架-全运会 示意图 不倒翁 动物园 兵马俑 客运站 火车站 八宝粥 羽绒服 ...   \n",
      "1                                   细节框架-粉蒸肉 外地人 互联网   \n",
      "2                                   细节框架-当地人 豆腐脑 男朋友   \n",
      "\n",
      "                       议题分类  \\\n",
      "0  文化风俗 重大事件 基础设施 休闲娱乐 社会民生   \n",
      "1                 休闲娱乐 社会民生   \n",
      "2                 社会民生 市民样貌   \n",
      "\n",
      "                                               议题选中词       叙事分类  \\\n",
      "0  全运会 示意图 不倒翁 兵马俑 客运站 动物园 火车站 八宝粥 羽绒服 汽车站 小伙伴 咖啡...  事件框架 细节框架   \n",
      "1                                        粉蒸肉 外地人 互联网       细节框架   \n",
      "2                                        当地人 豆腐脑 男朋友       细节框架   \n",
      "\n",
      "                                               叙事选中词  \n",
      "0  全运会 示意图 不倒翁 动物园 兵马俑 客运站 火车站 八宝粥 羽绒服 汽车站 小伙伴 咖啡...  \n",
      "1                                        粉蒸肉 外地人 互联网  \n",
      "2                                        当地人 豆腐脑 男朋友  \n"
     ]
    },
    {
     "name": "stderr",
     "output_type": "stream",
     "text": [
      "/opt/anaconda3/envs/sklearn/lib/python3.6/site-packages/ipykernel_launcher.py:8: FutureWarning: Columnar iteration over characters will be deprecated in future releases.\n",
      "  \n",
      "/opt/anaconda3/envs/sklearn/lib/python3.6/site-packages/ipykernel_launcher.py:9: FutureWarning: Columnar iteration over characters will be deprecated in future releases.\n",
      "  if __name__ == '__main__':\n"
     ]
    }
   ],
   "source": [
    "douban = pd.read_csv(\"resource/豆瓣日记内容.csv\")\n",
    "# douban = douban[:10]\n",
    "# print(get_top_keywords(douban['内容'][0]))\n",
    "douban['分词'] = douban['内容'].apply(get_top_keywords)\n",
    "douban['代表词数'] = douban['分词'].apply(get_words_count)\n",
    "douban['议题分类-选中词'] = douban['分词'].apply(dictionary_detection, args=[topic_dict])\n",
    "douban['叙事分类-选中词'] = douban['分词'].apply(dictionary_detection, args=[narration_dict])\n",
    "douban['议题分类'], douban['议题选中词'] = douban['议题分类-选中词'].str.split('-', 1).str\n",
    "douban['叙事分类'], douban['叙事选中词'] = douban['叙事分类-选中词'].str.split('-', 1).str\n",
    "print(douban.head(3))\n",
    "# douban.to_excel('resource/西安豆瓣分类.xlsx', index=False)\n",
    "    "
   ]
  },
  {
   "cell_type": "markdown",
   "metadata": {},
   "source": [
    "## 数据可视化"
   ]
  },
  {
   "cell_type": "markdown",
   "metadata": {},
   "source": [
    "### 议题分类统计"
   ]
  },
  {
   "cell_type": "code",
   "execution_count": 206,
   "metadata": {},
   "outputs": [
    {
     "data": {
      "image/png": "[encoded data removed]",
      "text/plain": [
       "<Figure size 360x194.4 with 1 Axes>"
      ]
     },
     "metadata": {
      "image/png": {
       "height": 206,
       "width": 338
      },
      "needs_background": "light"
     },
     "output_type": "display_data"
    }
   ],
   "source": [
    "fig, ax = plt.subplots(figsize=(5, 2.7))\n",
    "x = ' '.join(douban['议题分类'].array).split(' ')\n",
    "x = list(map(lambda s:int(s), filter(lambda s:s, x)))\n",
    "# print(x)\n",
    "num_bins = range(13)\n",
    "n, bins, patches = ax.hist(x, num_bins[1:], density=True)\n",
    "narration_tick_labels = ['积极', '消极', '事件', '细节']\n",
    "ax.set_xticks(range(14))\n",
    "# ax.set_xticklabels(narration_tick_labels)\n",
    "ax.set_xlabel('议题框架')\n",
    "ax.set_ylabel('事件总数')\n",
    "ax.set_title('豆瓣议题统计图')\n",
    "plt.show()"
   ]
  },
  {
   "cell_type": "markdown",
   "metadata": {},
   "source": [
    "### 叙事分类统计"
   ]
  },
  {
   "cell_type": "code",
   "execution_count": 260,
   "metadata": {},
   "outputs": [
    {
     "data": {
      "image/png": "[encoded data removed]",
      "text/plain": [
       "<Figure size 1080x360 with 1 Axes>"
      ]
     },
     "metadata": {
      "image/png": {
       "height": 331,
       "width": 888
      },
      "needs_background": "light"
     },
     "output_type": "display_data"
    }
   ],
   "source": [
    "fig, ax = plt.subplots(figsize=(15, 5))\n",
    "labels, counts = sum_of_types(douban['议题分类'].array)\n",
    "bar_labels = ['red', 'blue', 'green', 'orange']\n",
    "bar_colors = ['tab:red', 'tab:blue', 'tab:green', 'tab:orange']\n",
    "ax.bar(labels, counts)\n",
    "# ax.bar(labels, counts, label=bar_labels, color=bar_colors)\n",
    "ax.set_xlabel('议题框架')\n",
    "ax.set_ylabel('事件总数')\n",
    "ax.set_title('豆瓣议题框架统计图')\n",
    "plt.show()"
   ]
  },
  {
   "cell_type": "markdown",
   "metadata": {},
   "source": [
    "## playground"
   ]
  },
  {
   "cell_type": "code",
   "execution_count": 247,
   "metadata": {},
   "outputs": [
    {
     "name": "stdout",
     "output_type": "stream",
     "text": [
      "(Index(['社会民生', '休闲娱乐', '文化风俗', '基础设施', '政治环境', '科教文艺', '经济发展', '市民样貌', '重大事件',\n",
      "       '司法治安', '医疗卫生', '生态建设'],\n",
      "      dtype='object'), 社会民生    758\n",
      "休闲娱乐    521\n",
      "文化风俗    497\n",
      "基础设施    278\n",
      "政治环境    265\n",
      "科教文艺    220\n",
      "经济发展    195\n",
      "市民样貌    121\n",
      "重大事件     52\n",
      "司法治安     28\n",
      "医疗卫生     13\n",
      "生态建设      5\n",
      "dtype: int64)\n"
     ]
    }
   ],
   "source": [
    "# print(sum_of_types(douban['叙事分类'].array))\n",
    "print(sum_of_types(douban['议题分类'].array))"
   ]
  }
 ],
 "metadata": {
  "kernelspec": {
   "display_name": "Python 3.6.13 ('sklearn')",
   "language": "python",
   "name": "python3"
  },
  "language_info": {
   "codemirror_mode": {
    "name": "ipython",
    "version": 3
   },
   "file_extension": ".py",
   "mimetype": "text/x-python",
   "name": "python",
   "nbconvert_exporter": "python",
   "pygments_lexer": "ipython3",
   "version": "3.6.13"
  },
  "orig_nbformat": 4,
  "vscode": {
   "interpreter": {
    "hash": "57b451d8a77b1c582563a803404b8d25a630bd668f259ee281ee8164552d9c1d"
   }
  }
 },
 "nbformat": 4,
 "nbformat_minor": 2
}
