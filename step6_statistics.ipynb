{
 "cells": [
  {
   "cell_type": "markdown",
   "metadata": {},
   "source": [
    "# 数据统计"
   ]
  },
  {
   "cell_type": "markdown",
   "metadata": {},
   "source": [
    "## 预设"
   ]
  },
  {
   "cell_type": "markdown",
   "metadata": {},
   "source": [
    "### 导入库"
   ]
  },
  {
   "cell_type": "code",
   "execution_count": 63,
   "metadata": {},
   "outputs": [],
   "source": [
    "import pandas as pd\n",
    "from utils import *"
   ]
  },
  {
   "cell_type": "markdown",
   "metadata": {},
   "source": [
    "### 全局参数"
   ]
  },
  {
   "cell_type": "code",
   "execution_count": 64,
   "metadata": {},
   "outputs": [],
   "source": [
    "DictionaryFilePath = 'data/西安城市形象编码词表.pkl'\n",
    "DataFilePath = 'data/4西安项目分类后.pkl'"
   ]
  },
  {
   "cell_type": "markdown",
   "metadata": {},
   "source": [
    "### 全局设置"
   ]
  },
  {
   "cell_type": "markdown",
   "metadata": {},
   "source": [
    "## 函数工具"
   ]
  },
  {
   "cell_type": "code",
   "execution_count": 65,
   "metadata": {},
   "outputs": [],
   "source": [
    "# 生成新路径，用来保存修改后文件\n",
    "def get_new_path(old_path, new_tag):\n",
    "    path_list = old_path.rsplit('.', 1)\n",
    "    path_list[0] += '_'+new_tag\n",
    "    return '.'.join(path_list)"
   ]
  },
  {
   "cell_type": "code",
   "execution_count": 72,
   "metadata": {},
   "outputs": [],
   "source": [
    "# pandas 获取总数\n",
    "def get_class_sum(class_list, target_df, data, field = None, filter_content = ''):\n",
    "    # 保存列名\n",
    "    target_column = filter_content + '总数'\n",
    "    \n",
    "    if field and filter_content:\n",
    "        for column in class_list:\n",
    "            target_df.loc[column, target_column] = data[data[field]==filter_content][column].sum()\n",
    "    elif not field or not filter_content:\n",
    "        for column in class_list:\n",
    "            target_df.loc[column, target_column] = data[column].sum()\n",
    "    else:\n",
    "        logger.error(f'没有指定过滤列名称,field:{field},filter_content:{filter_content}')\n",
    "\n",
    "    target_df[target_column] = target_df[target_column].astype('Int64')\n",
    "    return target_df"
   ]
  },
  {
   "cell_type": "markdown",
   "metadata": {},
   "source": [
    "## 数据读取"
   ]
  },
  {
   "cell_type": "code",
   "execution_count": 67,
   "metadata": {},
   "outputs": [],
   "source": [
    "dictionary_comparison_table = pd.read_pickle(DictionaryFilePath)\n",
    "data = pd.read_pickle(DataFilePath)"
   ]
  },
  {
   "cell_type": "markdown",
   "metadata": {},
   "source": [
    "## 数据处理"
   ]
  },
  {
   "cell_type": "code",
   "execution_count": 68,
   "metadata": {},
   "outputs": [],
   "source": [
    "dictionary_statistics_df = pd.DataFrame()"
   ]
  },
  {
   "cell_type": "code",
   "execution_count": 69,
   "metadata": {},
   "outputs": [],
   "source": [
    "dictionary_statistics_df = get_class_sum(dictionary_comparison_table.columns, dictionary_statistics_df, data)"
   ]
  },
  {
   "cell_type": "code",
   "execution_count": 76,
   "metadata": {},
   "outputs": [],
   "source": [
    "for pt in ['豆瓣', '微博', '知乎']:\n",
    "    dictionary_statistics_df = get_class_sum(dictionary_comparison_table.columns, dictionary_statistics_df, data, field='平台', filter_content=pt)"
   ]
  },
  {
   "cell_type": "markdown",
   "metadata": {},
   "source": [
    "## 数据展示"
   ]
  },
  {
   "cell_type": "code",
   "execution_count": 77,
   "metadata": {},
   "outputs": [
    {
     "data": {
      "text/html": [
       "<div>\n",
       "<style scoped>\n",
       "    .dataframe tbody tr th:only-of-type {\n",
       "        vertical-align: middle;\n",
       "    }\n",
       "\n",
       "    .dataframe tbody tr th {\n",
       "        vertical-align: top;\n",
       "    }\n",
       "\n",
       "    .dataframe thead th {\n",
       "        text-align: right;\n",
       "    }\n",
       "</style>\n",
       "<table border=\"1\" class=\"dataframe\">\n",
       "  <thead>\n",
       "    <tr style=\"text-align: right;\">\n",
       "      <th></th>\n",
       "      <th>总数</th>\n",
       "      <th>豆瓣总数</th>\n",
       "      <th>微博总数</th>\n",
       "      <th>知乎总数</th>\n",
       "    </tr>\n",
       "  </thead>\n",
       "  <tbody>\n",
       "    <tr>\n",
       "      <th>政治环境</th>\n",
       "      <td>3709</td>\n",
       "      <td>224</td>\n",
       "      <td>2188</td>\n",
       "      <td>1297</td>\n",
       "    </tr>\n",
       "    <tr>\n",
       "      <th>经济发展</th>\n",
       "      <td>2606</td>\n",
       "      <td>170</td>\n",
       "      <td>1564</td>\n",
       "      <td>872</td>\n",
       "    </tr>\n",
       "    <tr>\n",
       "      <th>生态建设</th>\n",
       "      <td>4</td>\n",
       "      <td>4</td>\n",
       "      <td>0</td>\n",
       "      <td>0</td>\n",
       "    </tr>\n",
       "    <tr>\n",
       "      <th>文化风俗</th>\n",
       "      <td>2929</td>\n",
       "      <td>413</td>\n",
       "      <td>1907</td>\n",
       "      <td>609</td>\n",
       "    </tr>\n",
       "    <tr>\n",
       "      <th>重大事件</th>\n",
       "      <td>918</td>\n",
       "      <td>47</td>\n",
       "      <td>696</td>\n",
       "      <td>175</td>\n",
       "    </tr>\n",
       "    <tr>\n",
       "      <th>司法治安</th>\n",
       "      <td>1415</td>\n",
       "      <td>25</td>\n",
       "      <td>1300</td>\n",
       "      <td>90</td>\n",
       "    </tr>\n",
       "    <tr>\n",
       "      <th>医疗卫生</th>\n",
       "      <td>825</td>\n",
       "      <td>12</td>\n",
       "      <td>609</td>\n",
       "      <td>204</td>\n",
       "    </tr>\n",
       "    <tr>\n",
       "      <th>基础设施</th>\n",
       "      <td>2326</td>\n",
       "      <td>229</td>\n",
       "      <td>1467</td>\n",
       "      <td>630</td>\n",
       "    </tr>\n",
       "    <tr>\n",
       "      <th>科教文艺</th>\n",
       "      <td>3277</td>\n",
       "      <td>192</td>\n",
       "      <td>2002</td>\n",
       "      <td>1083</td>\n",
       "    </tr>\n",
       "    <tr>\n",
       "      <th>休闲娱乐</th>\n",
       "      <td>4844</td>\n",
       "      <td>419</td>\n",
       "      <td>3594</td>\n",
       "      <td>831</td>\n",
       "    </tr>\n",
       "    <tr>\n",
       "      <th>社会民生</th>\n",
       "      <td>8965</td>\n",
       "      <td>587</td>\n",
       "      <td>4699</td>\n",
       "      <td>3679</td>\n",
       "    </tr>\n",
       "    <tr>\n",
       "      <th>市民样貌</th>\n",
       "      <td>1268</td>\n",
       "      <td>101</td>\n",
       "      <td>556</td>\n",
       "      <td>611</td>\n",
       "    </tr>\n",
       "    <tr>\n",
       "      <th>积极判断框架</th>\n",
       "      <td>1338</td>\n",
       "      <td>148</td>\n",
       "      <td>570</td>\n",
       "      <td>620</td>\n",
       "    </tr>\n",
       "    <tr>\n",
       "      <th>消极判断框架</th>\n",
       "      <td>416</td>\n",
       "      <td>2</td>\n",
       "      <td>211</td>\n",
       "      <td>203</td>\n",
       "    </tr>\n",
       "    <tr>\n",
       "      <th>事件框架</th>\n",
       "      <td>9096</td>\n",
       "      <td>673</td>\n",
       "      <td>6449</td>\n",
       "      <td>1974</td>\n",
       "    </tr>\n",
       "    <tr>\n",
       "      <th>细节框架</th>\n",
       "      <td>10923</td>\n",
       "      <td>687</td>\n",
       "      <td>6423</td>\n",
       "      <td>3813</td>\n",
       "    </tr>\n",
       "  </tbody>\n",
       "</table>\n",
       "</div>"
      ],
      "text/plain": [
       "           总数  豆瓣总数  微博总数  知乎总数\n",
       "政治环境     3709   224  2188  1297\n",
       "经济发展     2606   170  1564   872\n",
       "生态建设        4     4     0     0\n",
       "文化风俗     2929   413  1907   609\n",
       "重大事件      918    47   696   175\n",
       "司法治安     1415    25  1300    90\n",
       "医疗卫生      825    12   609   204\n",
       "基础设施     2326   229  1467   630\n",
       "科教文艺     3277   192  2002  1083\n",
       "休闲娱乐     4844   419  3594   831\n",
       "社会民生     8965   587  4699  3679\n",
       "市民样貌     1268   101   556   611\n",
       "积极判断框架   1338   148   570   620\n",
       "消极判断框架    416     2   211   203\n",
       "事件框架     9096   673  6449  1974\n",
       "细节框架    10923   687  6423  3813"
      ]
     },
     "execution_count": 77,
     "metadata": {},
     "output_type": "execute_result"
    }
   ],
   "source": [
    "data_to_show = dictionary_statistics_df\n",
    "data_to_show"
   ]
  },
  {
   "cell_type": "markdown",
   "metadata": {},
   "source": [
    "## 数据保存"
   ]
  },
  {
   "cell_type": "code",
   "execution_count": 47,
   "metadata": {},
   "outputs": [],
   "source": [
    "data_to_save = dictionary_statistics_df\n",
    "OutFilePath = get_new_path(DataFilePath, '数量分布')\n",
    "data_to_save.to_pickle(OutFilePath)"
   ]
  },
  {
   "cell_type": "markdown",
   "metadata": {},
   "source": [
    "## 测试&playground"
   ]
  }
 ],
 "metadata": {
  "kernelspec": {
   "display_name": "Python 3.11.0 64-bit ('NLP_basic')",
   "language": "python",
   "name": "python3"
  },
  "language_info": {
   "codemirror_mode": {
    "name": "ipython",
    "version": 3
   },
   "file_extension": ".py",
   "mimetype": "text/x-python",
   "name": "python",
   "nbconvert_exporter": "python",
   "pygments_lexer": "ipython3",
   "version": "3.11.0"
  },
  "orig_nbformat": 4,
  "vscode": {
   "interpreter": {
    "hash": "079e56311600030aea161f73c27f984888490b25ad0ceac64419b7055e9af638"
   }
  }
 },
 "nbformat": 4,
 "nbformat_minor": 2
}
