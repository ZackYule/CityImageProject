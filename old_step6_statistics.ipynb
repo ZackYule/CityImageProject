{
 "cells": [
  {
   "cell_type": "markdown",
   "metadata": {},
   "source": [
    "# 数据统计"
   ]
  },
  {
   "cell_type": "markdown",
   "metadata": {},
   "source": [
    "## 预设"
   ]
  },
  {
   "cell_type": "markdown",
   "metadata": {},
   "source": [
    "### 导入库"
   ]
  },
  {
   "cell_type": "code",
   "execution_count": 5,
   "metadata": {},
   "outputs": [],
   "source": [
    "import pandas as pd\n",
    "from utils import *"
   ]
  },
  {
   "cell_type": "markdown",
   "metadata": {},
   "source": [
    "### 全局参数"
   ]
  },
  {
   "cell_type": "code",
   "execution_count": 6,
   "metadata": {},
   "outputs": [],
   "source": [
    "DictionaryFilePath = 'data/西安城市形象编码词表.pkl'\n",
    "DataFilePath = 'data/西安城市形象数据_关键词_议题分类.pkl'"
   ]
  },
  {
   "cell_type": "markdown",
   "metadata": {},
   "source": [
    "### 全局设置"
   ]
  },
  {
   "cell_type": "markdown",
   "metadata": {},
   "source": [
    "## 函数工具"
   ]
  },
  {
   "cell_type": "code",
   "execution_count": 7,
   "metadata": {},
   "outputs": [],
   "source": [
    "# pandas 获取总数\n",
    "def get_class_sum(class_list, target_df, data, field = None, filter_content = ''):\n",
    "    # 保存列名\n",
    "    target_column = filter_content + '总数'\n",
    "    \n",
    "    if field and filter_content:\n",
    "        for column in class_list:\n",
    "            target_df.loc[column, target_column] = data[data[field]==filter_content][column].sum()\n",
    "    elif not field or not filter_content:\n",
    "        for column in class_list:\n",
    "            target_df.loc[column, target_column] = data[column].sum()\n",
    "    else:\n",
    "        logger.error(f'没有指定过滤列名称,field:{field},filter_content:{filter_content}')\n",
    "\n",
    "    target_df[target_column] = target_df[target_column].astype('Int64')\n",
    "    return target_df"
   ]
  },
  {
   "cell_type": "markdown",
   "metadata": {},
   "source": [
    "## 数据读取"
   ]
  },
  {
   "cell_type": "code",
   "execution_count": 8,
   "metadata": {},
   "outputs": [],
   "source": [
    "dictionary_comparison_table = pd.read_pickle(DictionaryFilePath)\n",
    "data = pd.read_pickle(DataFilePath)"
   ]
  },
  {
   "cell_type": "markdown",
   "metadata": {},
   "source": [
    "## 数据处理"
   ]
  },
  {
   "cell_type": "markdown",
   "metadata": {},
   "source": [
    "### 总数统计"
   ]
  },
  {
   "cell_type": "code",
   "execution_count": 9,
   "metadata": {},
   "outputs": [],
   "source": [
    "dictionary_statistics_df = pd.DataFrame()"
   ]
  },
  {
   "cell_type": "code",
   "execution_count": 10,
   "metadata": {},
   "outputs": [],
   "source": [
    "dictionary_statistics_df = get_class_sum(dictionary_comparison_table.columns, dictionary_statistics_df, data)"
   ]
  },
  {
   "cell_type": "code",
   "execution_count": 11,
   "metadata": {},
   "outputs": [],
   "source": [
    "for pt in ['豆瓣', '微博', '知乎']:\n",
    "    dictionary_statistics_df = get_class_sum(dictionary_comparison_table.columns, dictionary_statistics_df, data, field='平台', filter_content=pt)"
   ]
  },
  {
   "cell_type": "markdown",
   "metadata": {},
   "source": [
    "## 数据展示"
   ]
  },
  {
   "cell_type": "code",
   "execution_count": 12,
   "metadata": {},
   "outputs": [
    {
     "data": {
      "text/html": [
       "<div>\n",
       "<style scoped>\n",
       "    .dataframe tbody tr th:only-of-type {\n",
       "        vertical-align: middle;\n",
       "    }\n",
       "\n",
       "    .dataframe tbody tr th {\n",
       "        vertical-align: top;\n",
       "    }\n",
       "\n",
       "    .dataframe thead th {\n",
       "        text-align: right;\n",
       "    }\n",
       "</style>\n",
       "<table border=\"1\" class=\"dataframe\">\n",
       "  <thead>\n",
       "    <tr style=\"text-align: right;\">\n",
       "      <th></th>\n",
       "      <th>总数</th>\n",
       "      <th>豆瓣总数</th>\n",
       "      <th>微博总数</th>\n",
       "      <th>知乎总数</th>\n",
       "    </tr>\n",
       "  </thead>\n",
       "  <tbody>\n",
       "    <tr>\n",
       "      <th>政治环境</th>\n",
       "      <td>45815</td>\n",
       "      <td>281</td>\n",
       "      <td>39741</td>\n",
       "      <td>5793</td>\n",
       "    </tr>\n",
       "    <tr>\n",
       "      <th>经济发展</th>\n",
       "      <td>32339</td>\n",
       "      <td>276</td>\n",
       "      <td>28331</td>\n",
       "      <td>3732</td>\n",
       "    </tr>\n",
       "    <tr>\n",
       "      <th>生态建设</th>\n",
       "      <td>11248</td>\n",
       "      <td>78</td>\n",
       "      <td>10292</td>\n",
       "      <td>878</td>\n",
       "    </tr>\n",
       "    <tr>\n",
       "      <th>文化风俗</th>\n",
       "      <td>17308</td>\n",
       "      <td>382</td>\n",
       "      <td>15576</td>\n",
       "      <td>1350</td>\n",
       "    </tr>\n",
       "    <tr>\n",
       "      <th>重大事件</th>\n",
       "      <td>4728</td>\n",
       "      <td>18</td>\n",
       "      <td>4590</td>\n",
       "      <td>120</td>\n",
       "    </tr>\n",
       "    <tr>\n",
       "      <th>司法治安</th>\n",
       "      <td>13921</td>\n",
       "      <td>27</td>\n",
       "      <td>13491</td>\n",
       "      <td>403</td>\n",
       "    </tr>\n",
       "    <tr>\n",
       "      <th>医疗卫生</th>\n",
       "      <td>35680</td>\n",
       "      <td>120</td>\n",
       "      <td>33128</td>\n",
       "      <td>2432</td>\n",
       "    </tr>\n",
       "    <tr>\n",
       "      <th>基础设施</th>\n",
       "      <td>28661</td>\n",
       "      <td>329</td>\n",
       "      <td>26307</td>\n",
       "      <td>2025</td>\n",
       "    </tr>\n",
       "    <tr>\n",
       "      <th>科教文艺</th>\n",
       "      <td>57104</td>\n",
       "      <td>378</td>\n",
       "      <td>53025</td>\n",
       "      <td>3701</td>\n",
       "    </tr>\n",
       "    <tr>\n",
       "      <th>休闲娱乐</th>\n",
       "      <td>61831</td>\n",
       "      <td>611</td>\n",
       "      <td>58796</td>\n",
       "      <td>2424</td>\n",
       "    </tr>\n",
       "    <tr>\n",
       "      <th>社会民生</th>\n",
       "      <td>52722</td>\n",
       "      <td>432</td>\n",
       "      <td>47897</td>\n",
       "      <td>4393</td>\n",
       "    </tr>\n",
       "    <tr>\n",
       "      <th>市民样貌</th>\n",
       "      <td>3568</td>\n",
       "      <td>25</td>\n",
       "      <td>3224</td>\n",
       "      <td>319</td>\n",
       "    </tr>\n",
       "    <tr>\n",
       "      <th>积极判断框架</th>\n",
       "      <td>56388</td>\n",
       "      <td>463</td>\n",
       "      <td>52088</td>\n",
       "      <td>3837</td>\n",
       "    </tr>\n",
       "    <tr>\n",
       "      <th>消极判断框架</th>\n",
       "      <td>33360</td>\n",
       "      <td>92</td>\n",
       "      <td>30212</td>\n",
       "      <td>3056</td>\n",
       "    </tr>\n",
       "    <tr>\n",
       "      <th>事件框架</th>\n",
       "      <td>43720</td>\n",
       "      <td>259</td>\n",
       "      <td>37525</td>\n",
       "      <td>5936</td>\n",
       "    </tr>\n",
       "    <tr>\n",
       "      <th>细节框架</th>\n",
       "      <td>45165</td>\n",
       "      <td>334</td>\n",
       "      <td>42155</td>\n",
       "      <td>2676</td>\n",
       "    </tr>\n",
       "  </tbody>\n",
       "</table>\n",
       "</div>"
      ],
      "text/plain": [
       "           总数  豆瓣总数   微博总数  知乎总数\n",
       "政治环境    45815   281  39741  5793\n",
       "经济发展    32339   276  28331  3732\n",
       "生态建设    11248    78  10292   878\n",
       "文化风俗    17308   382  15576  1350\n",
       "重大事件     4728    18   4590   120\n",
       "司法治安    13921    27  13491   403\n",
       "医疗卫生    35680   120  33128  2432\n",
       "基础设施    28661   329  26307  2025\n",
       "科教文艺    57104   378  53025  3701\n",
       "休闲娱乐    61831   611  58796  2424\n",
       "社会民生    52722   432  47897  4393\n",
       "市民样貌     3568    25   3224   319\n",
       "积极判断框架  56388   463  52088  3837\n",
       "消极判断框架  33360    92  30212  3056\n",
       "事件框架    43720   259  37525  5936\n",
       "细节框架    45165   334  42155  2676"
      ]
     },
     "execution_count": 12,
     "metadata": {},
     "output_type": "execute_result"
    }
   ],
   "source": [
    "data_to_show = dictionary_statistics_df\n",
    "data_to_show"
   ]
  },
  {
   "cell_type": "markdown",
   "metadata": {},
   "source": [
    "## 数据保存"
   ]
  },
  {
   "cell_type": "markdown",
   "metadata": {},
   "source": [
    "### 数量统计"
   ]
  },
  {
   "cell_type": "code",
   "execution_count": 13,
   "metadata": {},
   "outputs": [],
   "source": [
    "data_to_save = dictionary_statistics_df\n",
    "OutFilePath = get_new_path(DictionaryFilePath, '数量分布')\n",
    "data_to_save.to_pickle(OutFilePath)"
   ]
  },
  {
   "cell_type": "markdown",
   "metadata": {},
   "source": [
    "## 测试&playground"
   ]
  }
 ],
 "metadata": {
  "kernelspec": {
   "display_name": "Python 3.11.0 64-bit ('NLP_Basic')",
   "language": "python",
   "name": "python3"
  },
  "language_info": {
   "codemirror_mode": {
    "name": "ipython",
    "version": 3
   },
   "file_extension": ".py",
   "mimetype": "text/x-python",
   "name": "python",
   "nbconvert_exporter": "python",
   "pygments_lexer": "ipython3",
   "version": "3.11.0"
  },
  "orig_nbformat": 4,
  "vscode": {
   "interpreter": {
    "hash": "5d27efa6b584b4c383956c6770d9f739e2ba2492e6938348fad3a5aa6f8302d1"
   }
  }
 },
 "nbformat": 4,
 "nbformat_minor": 2
}
