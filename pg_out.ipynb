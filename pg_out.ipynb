{
 "cells": [
  {
   "cell_type": "markdown",
   "metadata": {},
   "source": [
    "# 数据处理模板"
   ]
  },
  {
   "cell_type": "markdown",
   "metadata": {},
   "source": [
    "## 预设"
   ]
  },
  {
   "cell_type": "markdown",
   "metadata": {},
   "source": [
    "### 导入库"
   ]
  },
  {
   "cell_type": "code",
   "execution_count": 1,
   "metadata": {},
   "outputs": [],
   "source": [
    "import sys\n",
    "sys.path.append(\"..\")\n",
    "import pandas as pd\n",
    "import jieba.analyse as analyse\n",
    "import setting"
   ]
  },
  {
   "cell_type": "markdown",
   "metadata": {},
   "source": [
    "### 全局参数"
   ]
  },
  {
   "cell_type": "code",
   "execution_count": 2,
   "metadata": {},
   "outputs": [],
   "source": [
    "DataFilePath = 'data/西安城市形象数据.pkl'"
   ]
  },
  {
   "cell_type": "markdown",
   "metadata": {},
   "source": [
    "### 全局设置"
   ]
  },
  {
   "cell_type": "markdown",
   "metadata": {},
   "source": [
    "## 函数工具"
   ]
  },
  {
   "cell_type": "code",
   "execution_count": 3,
   "metadata": {},
   "outputs": [],
   "source": [
    "# 生成新路径，用来保存修改后文件\n",
    "def get_new_path(old_path, new_tag):\n",
    "    path_list = old_path.rsplit('.', 1)\n",
    "    path_list[0] += '_'+new_tag\n",
    "    return '.'.join(path_list)"
   ]
  },
  {
   "cell_type": "code",
   "execution_count": 4,
   "metadata": {},
   "outputs": [],
   "source": [
    "def get_key_word_from_a_doc(content, topK=10, allow_pos_list=('n','nz','vn')):\n",
    "    return ' '.join(analyse.extract_tags(content, topK, allowPOS=allow_pos_list))"
   ]
  },
  {
   "cell_type": "markdown",
   "metadata": {},
   "source": [
    "## 数据读取"
   ]
  },
  {
   "cell_type": "code",
   "execution_count": 5,
   "metadata": {},
   "outputs": [],
   "source": [
    "data = pd.read_pickle(DataFilePath)\n",
    "data = data.sample(10).reset_index()"
   ]
  },
  {
   "cell_type": "markdown",
   "metadata": {},
   "source": [
    "## 数据处理"
   ]
  },
  {
   "cell_type": "code",
   "execution_count": 8,
   "metadata": {},
   "outputs": [],
   "source": [
    "analyse.set_idf_path(setting.IDFFilePath)"
   ]
  },
  {
   "cell_type": "code",
   "execution_count": 11,
   "metadata": {},
   "outputs": [],
   "source": [
    "analyse.set_stop_words(setting.StopWordPath)"
   ]
  },
  {
   "cell_type": "code",
   "execution_count": 12,
   "metadata": {},
   "outputs": [],
   "source": [
    "data['关键词'] = data['内容'].apply(get_key_word_from_a_doc, args=(setting.KeywordTopNumber, setting.AllowPOSList))"
   ]
  },
  {
   "cell_type": "markdown",
   "metadata": {},
   "source": [
    "## 数据展示"
   ]
  },
  {
   "cell_type": "code",
   "execution_count": 7,
   "metadata": {},
   "outputs": [
    {
     "data": {
      "text/plain": [
       "0                      云朵 网页 链接 视频 咨询\n",
       "1                      纹身 天使 天堂 地狱 作品\n",
       "2    浪琴表 女性 个性 时计 形象大使 陪伴 女神 大使 首创 正值\n",
       "3                      核酸 干嘛 人影 小时 领导\n",
       "4                                  手机\n",
       "5      军训 新生 入校 校方 监控 学校 辅导员 孩子 心率 男生\n",
       "6                                  精品\n",
       "7                                    \n",
       "8                      号线 英明 地铁 命名 政府\n",
       "9                         乐队 角落 咖啡 现场\n",
       "Name: 关键词, dtype: object"
      ]
     },
     "execution_count": 7,
     "metadata": {},
     "output_type": "execute_result"
    }
   ],
   "source": [
    "data_to_show = data\n",
    "data_to_show['关键词']"
   ]
  },
  {
   "cell_type": "code",
   "execution_count": 10,
   "metadata": {},
   "outputs": [
    {
     "data": {
      "text/plain": [
       "0                      云朵 链接 咨询 网页 视频\n",
       "1                      纹身 天使 天堂 地狱 作品\n",
       "2    女性 个性 浪琴表 首创 时间 正值 女神 形象大使 时计 大使\n",
       "3                      核酸 小时 人影 干嘛 领导\n",
       "4                                  手机\n",
       "5       新生 军训 监控 入校 校方 孩子 学校 家属 事发 倒地\n",
       "6                                  精品\n",
       "7                                    \n",
       "8                      命名 英明 号线 政府 地铁\n",
       "9                         角落 乐队 咖啡 现场\n",
       "Name: 关键词, dtype: object"
      ]
     },
     "execution_count": 10,
     "metadata": {},
     "output_type": "execute_result"
    }
   ],
   "source": [
    "data_to_show['关键词']"
   ]
  },
  {
   "cell_type": "code",
   "execution_count": 13,
   "metadata": {},
   "outputs": [
    {
     "data": {
      "text/plain": [
       "0                            云朵 网页 视频\n",
       "1                      纹身 天使 天堂 地狱 作品\n",
       "2    女性 个性 浪琴表 首创 正值 女神 形象大使 时计 大使 陪伴\n",
       "3                         核酸 人影 干嘛 领导\n",
       "4                                  手机\n",
       "5       新生 军训 监控 入校 校方 孩子 学校 家属 事发 倒地\n",
       "6                                  精品\n",
       "7                                    \n",
       "8                      命名 英明 号线 政府 地铁\n",
       "9                         角落 乐队 咖啡 现场\n",
       "Name: 关键词, dtype: object"
      ]
     },
     "execution_count": 13,
     "metadata": {},
     "output_type": "execute_result"
    }
   ],
   "source": [
    "data_to_show['关键词']"
   ]
  },
  {
   "cell_type": "markdown",
   "metadata": {},
   "source": [
    "## 数据保存"
   ]
  },
  {
   "cell_type": "code",
   "execution_count": null,
   "metadata": {},
   "outputs": [],
   "source": [
    "data_to_save = data\n",
    "OutFilePath = get_new_path(DataFilePath, 'out')\n",
    "data_to_save.to_pickle(OutFilePath)"
   ]
  },
  {
   "cell_type": "markdown",
   "metadata": {},
   "source": [
    "## 测试&playground"
   ]
  }
 ],
 "metadata": {
  "kernelspec": {
   "display_name": "Python 3.11.0 64-bit ('NLP_basic')",
   "language": "python",
   "name": "python3"
  },
  "language_info": {
   "codemirror_mode": {
    "name": "ipython",
    "version": 3
   },
   "file_extension": ".py",
   "mimetype": "text/x-python",
   "name": "python",
   "nbconvert_exporter": "python",
   "pygments_lexer": "ipython3",
   "version": "3.11.0"
  },
  "orig_nbformat": 4,
  "vscode": {
   "interpreter": {
    "hash": "079e56311600030aea161f73c27f984888490b25ad0ceac64419b7055e9af638"
   }
  }
 },
 "nbformat": 4,
 "nbformat_minor": 2
}
