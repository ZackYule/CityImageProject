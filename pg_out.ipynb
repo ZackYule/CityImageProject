{
 "cells": [
  {
   "cell_type": "markdown",
   "metadata": {},
   "source": [
    "# 数据处理模板"
   ]
  },
  {
   "cell_type": "markdown",
   "metadata": {},
   "source": [
    "## 预设"
   ]
  },
  {
   "cell_type": "markdown",
   "metadata": {},
   "source": [
    "### 导入库"
   ]
  },
  {
   "cell_type": "code",
   "execution_count": 1,
   "metadata": {},
   "outputs": [],
   "source": [
    "import sys\n",
    "sys.path.append(\"..\")\n",
    "import pandas as pd\n",
    "import jieba.analyse as analyse\n",
    "import setting"
   ]
  },
  {
   "cell_type": "markdown",
   "metadata": {},
   "source": [
    "### 全局参数"
   ]
  },
  {
   "cell_type": "code",
   "execution_count": 2,
   "metadata": {},
   "outputs": [],
   "source": [
    "DataFilePath = 'data/西安城市形象数据.pkl'"
   ]
  },
  {
   "cell_type": "markdown",
   "metadata": {},
   "source": [
    "### 全局设置"
   ]
  },
  {
   "cell_type": "markdown",
   "metadata": {},
   "source": [
    "## 函数工具"
   ]
  },
  {
   "cell_type": "code",
   "execution_count": 3,
   "metadata": {},
   "outputs": [],
   "source": [
    "# 生成新路径，用来保存修改后文件\n",
    "def get_new_path(old_path, new_tag):\n",
    "    path_list = old_path.rsplit('.', 1)\n",
    "    path_list[0] += '_'+new_tag\n",
    "    return '.'.join(path_list)"
   ]
  },
  {
   "cell_type": "code",
   "execution_count": 4,
   "metadata": {},
   "outputs": [],
   "source": [
    "def get_key_word_from_a_doc(content, topK=10, allow_pos_list=('n','nz','vn')):\n",
    "    return ' '.join(analyse.extract_tags(content, topK, allowPOS=allow_pos_list))"
   ]
  },
  {
   "cell_type": "markdown",
   "metadata": {},
   "source": [
    "## 数据读取"
   ]
  },
  {
   "cell_type": "code",
   "execution_count": 5,
   "metadata": {},
   "outputs": [],
   "source": [
    "data = pd.read_pickle(DataFilePath)\n",
    "data = data.sample(10).reset_index()"
   ]
  },
  {
   "cell_type": "markdown",
   "metadata": {},
   "source": [
    "## 数据处理"
   ]
  },
  {
   "cell_type": "code",
   "execution_count": 6,
   "metadata": {},
   "outputs": [],
   "source": [
    "analyse.set_idf_path(setting.IDFFilePath)"
   ]
  },
  {
   "cell_type": "code",
   "execution_count": null,
   "metadata": {},
   "outputs": [],
   "source": [
    "analyse.set_stop_words(setting.StopWordPath)"
   ]
  },
  {
   "cell_type": "code",
   "execution_count": 7,
   "metadata": {},
   "outputs": [
    {
     "name": "stderr",
     "output_type": "stream",
     "text": [
      "Building prefix dict from the default dictionary ...\n",
      "Loading model from cache /var/folders/3b/vr_bzyy109l8shrht3p8h5700000gn/T/jieba.cache\n",
      "Loading model cost 1.293 seconds.\n",
      "Prefix dict has been built successfully.\n"
     ]
    }
   ],
   "source": [
    "data['关键词'] = data['内容'].apply(get_key_word_from_a_doc, args=(setting.KeywordTopNumber, setting.AllowPOSList))"
   ]
  },
  {
   "cell_type": "markdown",
   "metadata": {},
   "source": [
    "## 数据展示"
   ]
  },
  {
   "cell_type": "code",
   "execution_count": 12,
   "metadata": {},
   "outputs": [
    {
     "data": {
      "text/plain": [
       "0          朗诵 习近平 比赛 朗诵者 我院 初赛 理政 对党 新语 共青团中央\n",
       "1            19 10 17 1.5 存款 手机 15k 10k 13 5k\n",
       "2    通麦 排龙乡 17 温泉 公里 雅鲁藏布江 雅鲁藏布江大峡谷 泡温泉 池子 天险\n",
       "3           西安 学期 装修 3000 2000 师傅 下班 工地 标准 孩子\n",
       "4             十四 房价 运来 多钱 要涨 全运会 城建 西安市 东风 赶上\n",
       "5               摄影 写真 长发 男生 驿站 散落 西安 一身 后期 朋友\n",
       "6            回民 西安 街道 ## 由北 西羊市 大皮院 化觉 洒金桥 广济\n",
       "7               隔离 风险 居家 外地 西安 出发 几天 变成 回到 集中\n",
       "8            疫情 拜托 视频 家人 解封 地想 娜娜 真的 好多好多 围坐在\n",
       "9              Tattooworkby 燕尾 纹身 清新 看过 西安 你们\n",
       "Name: 关键词, dtype: object"
      ]
     },
     "execution_count": 12,
     "metadata": {},
     "output_type": "execute_result"
    }
   ],
   "source": [
    "data_to_show = data\n",
    "data_to_show['关键词']"
   ]
  },
  {
   "cell_type": "code",
   "execution_count": 15,
   "metadata": {},
   "outputs": [
    {
     "data": {
      "text/plain": [
       "0       朗诵 习近平 比赛 十分 今晚 我院 进行 原著 原理 党性\n",
       "1       19 10 17 1.5 存款 不敢 手机 移动 税后 收入\n",
       "2    公里 温泉 通麦 排龙乡 我们 雅鲁藏布江 旁边 17 今天 由于\n",
       "3        西安 装修 师傅 因为 我们 学期 只有 所以 自己 标准\n",
       "4       十四 房价 全运会 西安 运来 不来 关系 现在 东风 城市\n",
       "5        摄影 一个 长发 后期 散落 一身 西安 写真 驿站 男生\n",
       "6        西安 回民 街道 ## 钟楼 作为 风情 代表 之一 街区\n",
       "7        隔离 风险 一下 如果 回到 西安 回来 时候 几天 出发\n",
       "8       真的 拜托 疫情 家人 全世界 床上 明天 睁眼 西安 解封\n",
       "9       西安 清新 你们 看过 燕尾 Tattooworkby 纹身\n",
       "Name: 关键词, dtype: object"
      ]
     },
     "execution_count": 15,
     "metadata": {},
     "output_type": "execute_result"
    }
   ],
   "source": [
    "data_to_show['关键词']"
   ]
  },
  {
   "cell_type": "code",
   "execution_count": 10,
   "metadata": {},
   "outputs": [
    {
     "data": {
      "text/plain": [
       "0                               关灯 晚安\n",
       "1                                    \n",
       "2       大哥 花生 锅巴 夫妻 物流 妹子 床上 妹纸 会儿 商人\n",
       "3      博主 妹子 牙齿 案例 医院 医生 发型 性价比 心病 嘴巴\n",
       "4                                    \n",
       "5    佛教 宗派 发源地 兴教 剖析 事物 创始者 弟子 信贷 大健融\n",
       "6                                    \n",
       "7               租房 闲鱼 押金 合租 运动 地铁口 公园\n",
       "8                            月薪 空乘 群体\n",
       "9     老板娘 老板 餐馆 世界 客人 营业 西餐 台湾人 祖籍 职场\n",
       "Name: 关键词, dtype: object"
      ]
     },
     "execution_count": 10,
     "metadata": {},
     "output_type": "execute_result"
    }
   ],
   "source": [
    "data_to_show['关键词']"
   ]
  },
  {
   "cell_type": "markdown",
   "metadata": {},
   "source": [
    "## 数据保存"
   ]
  },
  {
   "cell_type": "code",
   "execution_count": null,
   "metadata": {},
   "outputs": [],
   "source": [
    "data_to_save = data\n",
    "OutFilePath = get_new_path(DataFilePath, 'out')\n",
    "data_to_save.to_pickle(OutFilePath)"
   ]
  },
  {
   "cell_type": "markdown",
   "metadata": {},
   "source": [
    "## 测试&playground"
   ]
  }
 ],
 "metadata": {
  "kernelspec": {
   "display_name": "Python 3.11.0 64-bit ('NLP_basic')",
   "language": "python",
   "name": "python3"
  },
  "language_info": {
   "codemirror_mode": {
    "name": "ipython",
    "version": 3
   },
   "file_extension": ".py",
   "mimetype": "text/x-python",
   "name": "python",
   "nbconvert_exporter": "python",
   "pygments_lexer": "ipython3",
   "version": "3.11.0"
  },
  "orig_nbformat": 4,
  "vscode": {
   "interpreter": {
    "hash": "079e56311600030aea161f73c27f984888490b25ad0ceac64419b7055e9af638"
   }
  }
 },
 "nbformat": 4,
 "nbformat_minor": 2
}
